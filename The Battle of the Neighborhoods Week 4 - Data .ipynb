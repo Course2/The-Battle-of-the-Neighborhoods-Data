{
    "cells": [
        {
            "cell_type": "markdown",
            "metadata": {
                "collapsed": true
            },
            "source": "# Applied Data Science Capstone Project - The Battle of The Neighborhoods."
        },
        {
            "cell_type": "markdown",
            "metadata": {},
            "source": "## Growth in the Restaurant Business.\n"
        },
        {
            "cell_type": "markdown",
            "metadata": {},
            "source": "### Alberta canada"
        },
        {
            "cell_type": "markdown",
            "metadata": {},
            "source": "### Description of the Data"
        },
        {
            "cell_type": "markdown",
            "metadata": {},
            "source": "##### Projecting how the work will flow: "
        },
        {
            "cell_type": "markdown",
            "metadata": {},
            "source": "#### Dataframes will be created based on the province Alberta Canada.\n"
        },
        {
            "cell_type": "markdown",
            "metadata": {},
            "source": "#### Geographical coordinates are essential in terms of Latitudes and Longitudes."
        },
        {
            "cell_type": "markdown",
            "metadata": {},
            "source": "#### Exploring nearby places in different neighborhoods to compare venues"
        },
        {
            "cell_type": "markdown",
            "metadata": {},
            "source": "#### Segmenting them to understand means of opportunities."
        },
        {
            "cell_type": "markdown",
            "metadata": {},
            "source": "#### "
        },
        {
            "cell_type": "markdown",
            "metadata": {},
            "source": "##### Libraries that are likely to be used for the project :"
        },
        {
            "cell_type": "markdown",
            "metadata": {},
            "source": "#### Pandas -  to create and manipulate the dataframes."
        },
        {
            "cell_type": "markdown",
            "metadata": {},
            "source": "#### Beautiful Soup and Requests -  to scrap and library to handle http requests."
        },
        {
            "cell_type": "markdown",
            "metadata": {},
            "source": "#### Geocoder - will be used to retrieve geographical coordinates. "
        },
        {
            "cell_type": "markdown",
            "metadata": {},
            "source": "#### Folium -  is for data visualization with interactive mapping."
        },
        {
            "cell_type": "markdown",
            "metadata": {},
            "source": "#### Matplotlib - for plotting modules."
        },
        {
            "cell_type": "markdown",
            "metadata": {},
            "source": "#### JSON - to handle JSON files."
        },
        {
            "cell_type": "markdown",
            "metadata": {},
            "source": "#### Scikit Learn - for importing k-means clustering."
        },
        {
            "cell_type": "markdown",
            "metadata": {},
            "source": "#### Notes: this is only a projection.  Other libraries such as Numpy, XML, Geopy will be installed and imported if necessary.\n"
        },
        {
            "cell_type": "markdown",
            "metadata": {},
            "source": "________________________________________________________________________________________________________________________________________________"
        }
    ],
    "metadata": {
        "kernelspec": {
            "display_name": "Python 3.7",
            "language": "python",
            "name": "python3"
        },
        "language_info": {
            "codemirror_mode": {
                "name": "ipython",
                "version": 3
            },
            "file_extension": ".py",
            "mimetype": "text/x-python",
            "name": "python",
            "nbconvert_exporter": "python",
            "pygments_lexer": "ipython3",
            "version": "3.7.9"
        }
    },
    "nbformat": 4,
    "nbformat_minor": 1
}